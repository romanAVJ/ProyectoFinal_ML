{
 "cells": [
  {
   "cell_type": "markdown",
   "metadata": {},
   "source": [
    "## Proyecto final \n",
    "+ Jesús Eduardo Torres Ruiz, 166079\n",
    "+ Iván Alvarez Tostado, 167699\n",
    "+ Román Alberto Veléz Jiménez, 165462\n",
    "+ Naomi Zuleth Cabrera Andrade, 165398"
   ]
  },
  {
   "cell_type": "code",
   "execution_count": 7,
   "metadata": {},
   "outputs": [],
   "source": [
    "import numpy as np\n",
    "import pandas as pd\n",
    "import PuntosInteriores as PI\n",
    "import Descenso2Pasos as d2p\n",
    "import matplotlib.pyplot as plt\n",
    "import time\n",
    "from numpy import linalg as la"
   ]
  },
  {
   "cell_type": "markdown",
   "metadata": {},
   "source": [
    "### Método de punto interior"
   ]
  },
  {
   "cell_type": "markdown",
   "metadata": {},
   "source": [
    "Se considera el siguiente problema de minimización: \n",
    "\n",
    "\\begin{array}{c}\n",
    "Min. \\frac{1}{2} x^{T}Qx^{T} + c^{T}x \\\\\n",
    "st. Ax \\geq b\n",
    "\\end{array}\n"
   ]
  },
  {
   "cell_type": "markdown",
   "metadata": {},
   "source": [
    "Donde:\n",
    " \n",
    "\n",
    " \n",
    "$Q \\in \\mathbb{R}^{nxn}$ es simétrica y positiva definida,\n",
    "$A \\in \\mathbb{R}^{mxn}$,\n",
    "$c,x \\in \\mathbb{R}^{n}$,\n",
    "$b \\in \\mathbb{R}^{m}$,\n",
    "\n",
    "Con $\\{ x \\in \\mathbb{R}^{n}: Ax \\geq b \\} \\not = 0  $\n",
    "\n",
    "\n"
   ]
  },
  {
   "cell_type": "markdown",
   "metadata": {},
   "source": [
    "La idea detrás de puntos interiores es utilizar el método de Newton para aproximar una solución a $F$ actualizando $y_{\\eta}$, $\\mu_{\\eta}$, tratando de que sean positivas."
   ]
  },
  {
   "cell_type": "markdown",
   "metadata": {},
   "source": [
    "\\begin{array}{c}\n",
    "F(x_{\\eta}, y_{\\eta}, \\mu_{\\eta})  = (0,0, \\eta_{e})^{T}, (y_{\\eta}, \\mu_{\\eta}) > 0\\\\\n",
    "\\end{array}\n"
   ]
  },
  {
   "cell_type": "markdown",
   "metadata": {},
   "source": [
    "**Ejemplo**\n",
    "\n",
    "Se quiere resolver el problema cuadrático: \n",
    "\n",
    "Tomado de: http://www.matematicasypoesia.com.es/ProbProgMat/problema107.htm\n"
   ]
  },
  {
   "cell_type": "markdown",
   "metadata": {},
   "source": [
    "$Min. -x1 -x2 + \\frac{1}{2} (x1^{2} + x2^{2})$\n",
    "\n",
    "st. \n",
    "\n",
    "$x1 + x2 \\leq 1$\n",
    "\n",
    "$4x1 + 2x2 \\leq 7/3$"
   ]
  },
  {
   "cell_type": "markdown",
   "metadata": {},
   "source": [
    "Gráficamente, la región factible se puede ver en la siguiente imagen. \n",
    "\n",
    "Además, se sabe que la solución para $(x1, x2) = (\\frac{4}{15}, \\frac{19}{30}) = (0.266, 0.633).$"
   ]
  },
  {
   "cell_type": "markdown",
   "metadata": {},
   "source": [
    "<img src=https://www.matematicasypoesia.com.es/ProbProgMat/imagenes/progMat02.gif width=\"300\">"
   ]
  },
  {
   "cell_type": "markdown",
   "metadata": {},
   "source": [
    "*Inputs*"
   ]
  },
  {
   "cell_type": "code",
   "execution_count": 264,
   "metadata": {},
   "outputs": [],
   "source": [
    "Q = np.eye(2)\n",
    "\n",
    "c = np.array([[-1],[-1]])\n",
    "\n",
    "A = np.array([[1, 1], \n",
    "              [4,2]])*-1\n",
    "\n",
    "#Q = 1/2 * np.eye(2)\n",
    "\n",
    "b = np.array([[1],[7/3]])*-1"
   ]
  },
  {
   "cell_type": "code",
   "execution_count": 267,
   "metadata": {},
   "outputs": [],
   "source": [
    "X, y, mu = PI.interior_points(Q, A, c, b)"
   ]
  },
  {
   "cell_type": "code",
   "execution_count": 268,
   "metadata": {},
   "outputs": [
    {
     "data": {
      "text/plain": [
       "array([[0.26666706],\n",
       "       [0.63333137]])"
      ]
     },
     "execution_count": 268,
     "metadata": {},
     "output_type": "execute_result"
    }
   ],
   "source": [
    "X"
   ]
  },
  {
   "cell_type": "markdown",
   "metadata": {},
   "source": [
    "Como se puede apreciar, el algorimo de puntos interiores funciona y puede optimizar la matriz $X$."
   ]
  },
  {
   "cell_type": "code",
   "execution_count": 2,
   "metadata": {},
   "outputs": [],
   "source": [
    "A = np.array([[1, 1],[0,1]])\n",
    "Q = np.array([[1, 1], \n",
    "              [0, 2]])\n",
    "c = np.array([[1],[1]])\n",
    "b = np.array([[3],[1]])\n"
   ]
  },
  {
   "cell_type": "code",
   "execution_count": 3,
   "metadata": {
    "scrolled": true
   },
   "outputs": [
    {
     "data": {
      "image/png": "[encoded data removed]",
      "text/plain": [
       "<Figure size 432x288 with 1 Axes>"
      ]
     },
     "metadata": {
      "needs_background": "light"
     },
     "output_type": "display_data"
    }
   ],
   "source": [
    "x, y, mu = PI.interior_points(Q, A, c, b, plot=True)"
   ]
  },
  {
   "cell_type": "code",
   "execution_count": 4,
   "metadata": {
    "scrolled": false
   },
   "outputs": [
    {
     "data": {
      "text/plain": [
       "array([[9.10838535e-08],\n",
       "       [5.00000410e-01]])"
      ]
     },
     "execution_count": 4,
     "metadata": {},
     "output_type": "execute_result"
    }
   ],
   "source": [
    "y"
   ]
  },
  {
   "cell_type": "markdown",
   "metadata": {},
   "source": [
    "## Descenso en dos pasos\n",
    "\n",
    "Problema\n",
    "Sea $X \\in \\mathbb{R}^{rxp}$ tal que $X_{ij} ≥0$ para todo par $(i, j)$.\n",
    "\n",
    "Fijamos $k \\in \\mathbb{N}$ tal que $k << r$ y $k << p$, considere el siguiente problema:\n",
    "\n",
    "\\begin{array}{c} \n",
    "Minimizar ∥X−WH∥^{2}_{F}\n",
    "\\end{array}\n",
    "\n",
    "\n",
    "\n",
    "<center>Sujeto a</center>\n",
    "\\begin{array}{c}\n",
    "W_{rxk} ≥ 0 \\\\\n",
    "H_{kp} ≥ 0\n",
    "\\end{array} \n",
    "\n",
    "### Algoritmo\n",
    "El problema anterior tiene varios mínimos locales y es un problema no lineal en las variables W y H.\n",
    "Para encontrar el mínimo local utilizamos el método de descenso en dos pasos que consiste en lo siguiente: \n",
    "\n",
    "Para $k=0, 1, 2, ...$ hacer: \n",
    "\n",
    "1. Resolver el problema\n",
    "\\begin{array}{c}\n",
    "Minimizar ∥X−W_{k}H∥^{2}_{F}\n",
    "\\end{array}\n",
    "\n",
    "<center>Sujeto a</center>\n",
    "\\begin{array}{c}\n",
    "  H≥ 0\n",
    "\\end{array} \n",
    "\n",
    "\n",
    "Una vez que ya se iteró en la matriz $W$, resolvemos el problema de optimización con la matriz $H$. \n",
    "\n",
    "2. Resolver el problema\n",
    "\\begin{array}{c} \n",
    "Minimizar ∥X−WH_{k+1}∥^{2}_{F}\n",
    "\\end{array}\n",
    "\n",
    "<center>Sujeto a</center>\n",
    "\\begin{array}{c}\n",
    "  W≥ 0\n",
    "\\end{array} \n",
    "\n",
    "3. Actualizar $k$\n",
    "\n",
    "4. Regresar al paso 1\n",
    "\n",
    "\n",
    "#### Notar:\n",
    "\n",
    "Los problemas que se resuelven en los pasos 1 y 2 son problemas cuadráticos que pueden reescribirse de la siguiente manera: \n",
    "\n",
    "De donde el paso (1) son $p$ problemas cuadráticos de la forma: \n",
    "\\begin{array}{c}\n",
    "Minimizar ∥X_{*j}−W_{k}H_{*j}∥^{2}_{F}\n",
    "\\end{array}\n",
    "\n",
    "<center>Sujeto a</center>\n",
    "\\begin{array}{c}\n",
    "  H_{*j}≥ 0\n",
    "\\end{array} \n",
    "\n",
    "<center>para $j=1...p$</center>\n",
    "\n",
    "\n",
    "Por otra parte, del paso (2) tenemos que son $r$ problemas cuadráticos de la forma:\n",
    "\n",
    "\\begin{array}{c} \n",
    "Minimizar ∥X_{i*}−W_{i*}H_{k+1}∥^{2}_{F}\n",
    "\\end{array}\n",
    "\n",
    "<center>Sujeto a</center>\n",
    "\\begin{array}{c}\n",
    "  W_{i*}≥ 0\n",
    "\\end{array} \n",
    "\n",
    "<center>para $i=1...r$</center>"
   ]
  },
  {
   "cell_type": "markdown",
   "metadata": {},
   "source": [
    "## Datos de los ratings de peliculas"
   ]
  },
  {
   "cell_type": "code",
   "execution_count": 8,
   "metadata": {},
   "outputs": [],
   "source": [
    "df_ratings_raw = pd.read_csv(\"/home/edu/MachineLearning/Final/ratings_small.csv\")"
   ]
  },
  {
   "cell_type": "code",
   "execution_count": 3,
   "metadata": {},
   "outputs": [
    {
     "data": {
      "text/html": [
       "<div>\n",
       "<style scoped>\n",
       "    .dataframe tbody tr th:only-of-type {\n",
       "        vertical-align: middle;\n",
       "    }\n",
       "\n",
       "    .dataframe tbody tr th {\n",
       "        vertical-align: top;\n",
       "    }\n",
       "\n",
       "    .dataframe thead th {\n",
       "        text-align: right;\n",
       "    }\n",
       "</style>\n",
       "<table border=\"1\" class=\"dataframe\">\n",
       "  <thead>\n",
       "    <tr style=\"text-align: right;\">\n",
       "      <th></th>\n",
       "      <th>userId</th>\n",
       "      <th>movieId</th>\n",
       "      <th>rating</th>\n",
       "      <th>timestamp</th>\n",
       "    </tr>\n",
       "  </thead>\n",
       "  <tbody>\n",
       "    <tr>\n",
       "      <th>0</th>\n",
       "      <td>1</td>\n",
       "      <td>31</td>\n",
       "      <td>2.5</td>\n",
       "      <td>1260759144</td>\n",
       "    </tr>\n",
       "    <tr>\n",
       "      <th>1</th>\n",
       "      <td>1</td>\n",
       "      <td>1029</td>\n",
       "      <td>3.0</td>\n",
       "      <td>1260759179</td>\n",
       "    </tr>\n",
       "    <tr>\n",
       "      <th>2</th>\n",
       "      <td>1</td>\n",
       "      <td>1061</td>\n",
       "      <td>3.0</td>\n",
       "      <td>1260759182</td>\n",
       "    </tr>\n",
       "  </tbody>\n",
       "</table>\n",
       "</div>"
      ],
      "text/plain": [
       "   userId  movieId  rating   timestamp\n",
       "0       1       31     2.5  1260759144\n",
       "1       1     1029     3.0  1260759179\n",
       "2       1     1061     3.0  1260759182"
      ]
     },
     "execution_count": 3,
     "metadata": {},
     "output_type": "execute_result"
    }
   ],
   "source": [
    "df_ratings_raw.head(3)"
   ]
  },
  {
   "cell_type": "markdown",
   "metadata": {},
   "source": [
    "## Normalizar"
   ]
  },
  {
   "cell_type": "code",
   "execution_count": 5,
   "metadata": {},
   "outputs": [],
   "source": [
    "\n",
    "maximos=df_ratings_raw.groupby(['userId'])['rating'].max()\n",
    "minimos=df_ratings_raw.groupby(['userId'])['rating'].min()\n",
    "intervalos=maximos-minimos"
   ]
  },
  {
   "cell_type": "code",
   "execution_count": 6,
   "metadata": {},
   "outputs": [
    {
     "data": {
      "text/plain": [
       "3.69150521609538"
      ]
     },
     "execution_count": 6,
     "metadata": {},
     "output_type": "execute_result"
    }
   ],
   "source": [
    "#Los usuarios no utilizan todo el rango de calificaciones de 0 a 5\n",
    "# Mas bien el rango de calificaciones es de 3.7\n",
    "intervalos.mean()"
   ]
  },
  {
   "cell_type": "code",
   "execution_count": 7,
   "metadata": {},
   "outputs": [],
   "source": [
    "for i in range(df_ratings_raw.shape[0]):\n",
    "    user=df_ratings_raw.loc[i, 'userId']\n",
    "    rating=df_ratings_raw.loc[i, 'rating']\n",
    "    df_ratings_raw.loc[i, 'rating']=(rating-minimos[user])*5/intervalos[user]"
   ]
  },
  {
   "cell_type": "code",
   "execution_count": 9,
   "metadata": {},
   "outputs": [],
   "source": [
    "df_ratings = df_ratings_raw.pivot(index='userId',\n",
    "                                  columns='movieId',\n",
    "                                  values='rating')"
   ]
  },
  {
   "cell_type": "code",
   "execution_count": 9,
   "metadata": {
    "scrolled": false
   },
   "outputs": [
    {
     "data": {
      "text/html": [
       "<div>\n",
       "<style scoped>\n",
       "    .dataframe tbody tr th:only-of-type {\n",
       "        vertical-align: middle;\n",
       "    }\n",
       "\n",
       "    .dataframe tbody tr th {\n",
       "        vertical-align: top;\n",
       "    }\n",
       "\n",
       "    .dataframe thead th {\n",
       "        text-align: right;\n",
       "    }\n",
       "</style>\n",
       "<table border=\"1\" class=\"dataframe\">\n",
       "  <thead>\n",
       "    <tr style=\"text-align: right;\">\n",
       "      <th>movieId</th>\n",
       "      <th>1</th>\n",
       "      <th>2</th>\n",
       "      <th>3</th>\n",
       "      <th>4</th>\n",
       "      <th>5</th>\n",
       "      <th>6</th>\n",
       "      <th>7</th>\n",
       "      <th>8</th>\n",
       "      <th>9</th>\n",
       "      <th>10</th>\n",
       "      <th>...</th>\n",
       "      <th>161084</th>\n",
       "      <th>161155</th>\n",
       "      <th>161594</th>\n",
       "      <th>161830</th>\n",
       "      <th>161918</th>\n",
       "      <th>161944</th>\n",
       "      <th>162376</th>\n",
       "      <th>162542</th>\n",
       "      <th>162672</th>\n",
       "      <th>163949</th>\n",
       "    </tr>\n",
       "    <tr>\n",
       "      <th>userId</th>\n",
       "      <th></th>\n",
       "      <th></th>\n",
       "      <th></th>\n",
       "      <th></th>\n",
       "      <th></th>\n",
       "      <th></th>\n",
       "      <th></th>\n",
       "      <th></th>\n",
       "      <th></th>\n",
       "      <th></th>\n",
       "      <th></th>\n",
       "      <th></th>\n",
       "      <th></th>\n",
       "      <th></th>\n",
       "      <th></th>\n",
       "      <th></th>\n",
       "      <th></th>\n",
       "      <th></th>\n",
       "      <th></th>\n",
       "      <th></th>\n",
       "      <th></th>\n",
       "    </tr>\n",
       "  </thead>\n",
       "  <tbody>\n",
       "    <tr>\n",
       "      <th>1</th>\n",
       "      <td>NaN</td>\n",
       "      <td>NaN</td>\n",
       "      <td>NaN</td>\n",
       "      <td>NaN</td>\n",
       "      <td>NaN</td>\n",
       "      <td>NaN</td>\n",
       "      <td>NaN</td>\n",
       "      <td>NaN</td>\n",
       "      <td>NaN</td>\n",
       "      <td>NaN</td>\n",
       "      <td>...</td>\n",
       "      <td>NaN</td>\n",
       "      <td>NaN</td>\n",
       "      <td>NaN</td>\n",
       "      <td>NaN</td>\n",
       "      <td>NaN</td>\n",
       "      <td>NaN</td>\n",
       "      <td>NaN</td>\n",
       "      <td>NaN</td>\n",
       "      <td>NaN</td>\n",
       "      <td>NaN</td>\n",
       "    </tr>\n",
       "    <tr>\n",
       "      <th>2</th>\n",
       "      <td>NaN</td>\n",
       "      <td>NaN</td>\n",
       "      <td>NaN</td>\n",
       "      <td>NaN</td>\n",
       "      <td>NaN</td>\n",
       "      <td>NaN</td>\n",
       "      <td>NaN</td>\n",
       "      <td>NaN</td>\n",
       "      <td>NaN</td>\n",
       "      <td>3.75</td>\n",
       "      <td>...</td>\n",
       "      <td>NaN</td>\n",
       "      <td>NaN</td>\n",
       "      <td>NaN</td>\n",
       "      <td>NaN</td>\n",
       "      <td>NaN</td>\n",
       "      <td>NaN</td>\n",
       "      <td>NaN</td>\n",
       "      <td>NaN</td>\n",
       "      <td>NaN</td>\n",
       "      <td>NaN</td>\n",
       "    </tr>\n",
       "    <tr>\n",
       "      <th>3</th>\n",
       "      <td>NaN</td>\n",
       "      <td>NaN</td>\n",
       "      <td>NaN</td>\n",
       "      <td>NaN</td>\n",
       "      <td>NaN</td>\n",
       "      <td>NaN</td>\n",
       "      <td>NaN</td>\n",
       "      <td>NaN</td>\n",
       "      <td>NaN</td>\n",
       "      <td>NaN</td>\n",
       "      <td>...</td>\n",
       "      <td>NaN</td>\n",
       "      <td>NaN</td>\n",
       "      <td>NaN</td>\n",
       "      <td>NaN</td>\n",
       "      <td>NaN</td>\n",
       "      <td>NaN</td>\n",
       "      <td>NaN</td>\n",
       "      <td>NaN</td>\n",
       "      <td>NaN</td>\n",
       "      <td>NaN</td>\n",
       "    </tr>\n",
       "  </tbody>\n",
       "</table>\n",
       "<p>3 rows × 9066 columns</p>\n",
       "</div>"
      ],
      "text/plain": [
       "movieId  1       2       3       4       5       6       7       8       \\\n",
       "userId                                                                    \n",
       "1           NaN     NaN     NaN     NaN     NaN     NaN     NaN     NaN   \n",
       "2           NaN     NaN     NaN     NaN     NaN     NaN     NaN     NaN   \n",
       "3           NaN     NaN     NaN     NaN     NaN     NaN     NaN     NaN   \n",
       "\n",
       "movieId  9       10      ...  161084  161155  161594  161830  161918  161944  \\\n",
       "userId                   ...                                                   \n",
       "1           NaN     NaN  ...     NaN     NaN     NaN     NaN     NaN     NaN   \n",
       "2           NaN    3.75  ...     NaN     NaN     NaN     NaN     NaN     NaN   \n",
       "3           NaN     NaN  ...     NaN     NaN     NaN     NaN     NaN     NaN   \n",
       "\n",
       "movieId  162376  162542  162672  163949  \n",
       "userId                                   \n",
       "1           NaN     NaN     NaN     NaN  \n",
       "2           NaN     NaN     NaN     NaN  \n",
       "3           NaN     NaN     NaN     NaN  \n",
       "\n",
       "[3 rows x 9066 columns]"
      ]
     },
     "execution_count": 9,
     "metadata": {},
     "output_type": "execute_result"
    }
   ],
   "source": [
    "df_ratings.head(3)"
   ]
  },
  {
   "cell_type": "code",
   "execution_count": 10,
   "metadata": {},
   "outputs": [],
   "source": [
    "X_ratings = df_ratings.to_numpy()"
   ]
  },
  {
   "cell_type": "markdown",
   "metadata": {},
   "source": [
    "## Sistema de Recomendaciones\n",
    "El algoritmo creado funcoina a partir de una k, lambda, un maximo de iteraciones y una tolerancia. En sus corridas se puede ir visualizando en que iteracion va y cuales son los costos asociados. "
   ]
  },
  {
   "cell_type": "code",
   "execution_count": 12,
   "metadata": {},
   "outputs": [
    {
     "name": "stdout",
     "output_type": "stream",
     "text": [
      "\n",
      "Iteración-0. \n",
      "  Costo Medio: 63.242\n",
      "  Costo de Diferencias: 6323632.285 \n",
      "  Costo de U: 55.96 \n",
      "  Costo de V: 753.331 \n",
      "  Costo Total: 6324441.577 \n",
      "Han transcurrido 0.165 segundos\n",
      "En columnas\n",
      "En renglones \n",
      "\n",
      "\n",
      "Iteración-1. \n",
      "  Costo Medio: 4.826\n",
      "  Costo de Diferencias: 482493.673 \n",
      "  Costo de U: 164.24 \n",
      "  Costo de V: 0.062 \n",
      "  Costo Total: 482657.975 \n",
      "Han transcurrido 42.173 segundos\n",
      "En columnas\n",
      "En renglones \n",
      "\n",
      "\n",
      "Iteración-2. \n",
      "  Costo Medio: 4.485\n",
      "  Costo de Diferencias: 448360.662 \n",
      "  Costo de U: 172.585 \n",
      "  Costo de V: 0.078 \n",
      "  Costo Total: 448533.324 \n",
      "Han transcurrido 89.441 segundos\n",
      "En columnas\n",
      "En renglones \n",
      "\n",
      "Algoritmo de descenso en 2 pasos no convirgió\n"
     ]
    }
   ],
   "source": [
    "np.random.seed(42)\n",
    "k = 2\n",
    "lambd = .01\n",
    "maxiter = 3\n",
    "tol = 1e-3\n",
    "W, H, tiempo, costo = d2p.gradient2steps(X_ratings, k, lambd, maxiter, tol)"
   ]
  },
  {
   "cell_type": "markdown",
   "metadata": {},
   "source": [
    "## Pruebas con Distintas K\n",
    "### Realizamos corridas con k=[2, 4, 8, 16, 32, 64, 128] y cronometramos el tiempo que tarda la computadora y el costo final obtenido en cada k"
   ]
  },
  {
   "cell_type": "code",
   "execution_count": 26,
   "metadata": {},
   "outputs": [],
   "source": [
    "lambd = .01\n",
    "maxiter = 10\n",
    "tol = 1e-3\n",
    "K = [2,4,8,16,32,64]\n",
    "\n",
    "def find_k(K, lambd, maxiter, tol):\n",
    "    W = []\n",
    "    H = []\n",
    "    k_times = []\n",
    "    k_losses = []\n",
    "    \n",
    "    for k in K:\n",
    "        w, h, time, cost = d2p.gradient2steps(X_ratings, k, lambd, maxiter, tol)\n",
    "        k_times.append(time)\n",
    "        k_losses.append(cost)\n",
    "        \n",
    "        if k_times[-1] <= min(k_times):\n",
    "            W = w\n",
    "            H = h\n",
    "            \n",
    "    return W, H, k_times, k_losses"
   ]
  },
  {
   "cell_type": "code",
   "execution_count": 1,
   "metadata": {
    "scrolled": true
   },
   "outputs": [],
   "source": [
    "## Correr esta celda tarda horas, se corrio pero se quito su salida pues ocupaba mucho espacio \n",
    "# W, H, k_times, k_losses = find_k(K, lambd, maxiter, tol)"
   ]
  },
  {
   "cell_type": "code",
   "execution_count": 28,
   "metadata": {},
   "outputs": [
    {
     "data": {
      "text/plain": [
       "[424.1895833015442,\n",
       " 481.3911316394806,\n",
       " 508.646066904068,\n",
       " 607.7960741519928,\n",
       " 1056.4972565174103,\n",
       " 2280.4613585472107]"
      ]
     },
     "execution_count": 28,
     "metadata": {},
     "output_type": "execute_result"
    }
   ],
   "source": [
    "# Los resulatdos de las corridas k = 2, 4, 8, 16, 32, 64\n",
    "k_times"
   ]
  },
  {
   "cell_type": "code",
   "execution_count": 29,
   "metadata": {},
   "outputs": [
    {
     "data": {
      "text/plain": [
       "[389655.52034897683,\n",
       " 362522.61010600533,\n",
       " 330922.4857260088,\n",
       " 300681.336973352,\n",
       " 266119.548611642,\n",
       " 224984.24247669912]"
      ]
     },
     "execution_count": 29,
     "metadata": {},
     "output_type": "execute_result"
    }
   ],
   "source": [
    "k_losses"
   ]
  },
  {
   "cell_type": "code",
   "execution_count": 4,
   "metadata": {
    "scrolled": true
   },
   "outputs": [],
   "source": [
    "np.random.seed(42)\n",
    "k = 128\n",
    "lambd = .01\n",
    "maxiter = 10\n",
    "tol = 1e-3\n",
    "## Esta es la corrida mas larga de todas\n",
    "# W, H, tiempo, costo = d2p.gradient2steps(X_ratings, k, lambd, maxiter, tol)"
   ]
  },
  {
   "cell_type": "code",
   "execution_count": 12,
   "metadata": {},
   "outputs": [
    {
     "data": {
      "text/plain": [
       "3689.809948682785"
      ]
     },
     "execution_count": 12,
     "metadata": {},
     "output_type": "execute_result"
    }
   ],
   "source": [
    "# Como se ve la corrida mas larga tardo mas de una hora\n",
    "tiempo"
   ]
  },
  {
   "cell_type": "code",
   "execution_count": 13,
   "metadata": {
    "scrolled": true
   },
   "outputs": [
    {
     "data": {
      "text/plain": [
       "175360.5195419731"
      ]
     },
     "execution_count": 13,
     "metadata": {},
     "output_type": "execute_result"
    }
   ],
   "source": [
    "costo"
   ]
  },
  {
   "cell_type": "code",
   "execution_count": 31,
   "metadata": {
    "scrolled": false
   },
   "outputs": [],
   "source": [
    "# agregamos el de la corrida con k=128 a las demas corridas\n",
    "k_times.append(3689.809948682785)\n",
    "k_losses.append(175360.5195419731)"
   ]
  },
  {
   "cell_type": "code",
   "execution_count": 32,
   "metadata": {},
   "outputs": [
    {
     "data": {
      "text/plain": [
       "Text(0.5, 0.98, 'Tiempo vs Costo Total para k= 2, 4, 8, 16, 32, 64, 128')"
      ]
     },
     "execution_count": 32,
     "metadata": {},
     "output_type": "execute_result"
    },
    {
     "data": {
      "image/png": "[encoded data removed]",
      "text/plain": [
       "<Figure size 432x288 with 1 Axes>"
      ]
     },
     "metadata": {
      "needs_background": "light"
     },
     "output_type": "display_data"
    }
   ],
   "source": [
    "fig,ax=plt.subplots()\n",
    "ax.scatter(x=k_times, y=k_losses)\n",
    "ax.set_xlabel('Tiempo de Corrida')\n",
    "ax.set_ylabel('Costo Total')\n",
    "fig.suptitle('Tiempo vs Costo Total para k= 2, 4, 8, 16, 32, 64, 128')"
   ]
  },
  {
   "cell_type": "markdown",
   "metadata": {},
   "source": [
    "## Pruebas con Distintas Lambdas"
   ]
  },
  {
   "cell_type": "code",
   "execution_count": 25,
   "metadata": {},
   "outputs": [],
   "source": [
    "def find_lambd(k, lambd, maxiter, tol):\n",
    "    W = []\n",
    "    H = []\n",
    "    lambd_losses = []\n",
    "    \n",
    "    for l in lambd:\n",
    "        print(f'\\nLambda: {l}')\n",
    "        w, h, time, cost = d2p.gradient2steps(X_ratings, k, l, maxiter, tol, True)\n",
    "        \n",
    "        predicciones=w@h\n",
    "        predicciones=pd.DataFrame(predicciones, index=df_ratings.index, columns=df_ratings.columns)\n",
    "        \n",
    "        #Evaluar con NDCG\n",
    "        resultados_NDCG=[]\n",
    "        for i in range(1, 672):\n",
    "            resultados_NDCG.append(NDCG(df_ratings_raw, predicciones, i))\n",
    "        lambd_losses.append(np.mean(resultados_NDCG))\n",
    "        \n",
    "        if lambd_losses[-1] >= max(lambd_losses):\n",
    "            W = w\n",
    "            H = h\n",
    "            \n",
    "    return W, H, lambd_losses\n"
   ]
  },
  {
   "cell_type": "code",
   "execution_count": 47,
   "metadata": {},
   "outputs": [],
   "source": [
    "np.random.seed(42)\n",
    "k = 8\n",
    "lambd = [0, 0.01, 0.2, 0.5, 0.8, 1]\n",
    "maxiter = 7\n",
    "tol = 1e-3\n"
   ]
  },
  {
   "cell_type": "code",
   "execution_count": 5,
   "metadata": {},
   "outputs": [],
   "source": [
    "## Corridas de las Lambdas igual tardan mucho\n",
    "# W, H, lambd_losses = find_lambd(k, lambd, maxiter, tol)"
   ]
  },
  {
   "cell_type": "code",
   "execution_count": 32,
   "metadata": {
    "scrolled": true
   },
   "outputs": [
    {
     "data": {
      "text/plain": [
       "[0.21683201281730868,\n",
       " 0.20909846190584228,\n",
       " 0.2087218124249772,\n",
       " 0.20107121710764317,\n",
       " 0.20390504773263146,\n",
       " 0.2063802714388104]"
      ]
     },
     "execution_count": 32,
     "metadata": {},
     "output_type": "execute_result"
    }
   ],
   "source": [
    "# Son los porcentajes obtenidos con el NDCG para cada Lambda\n",
    "lambd_losses"
   ]
  },
  {
   "cell_type": "code",
   "execution_count": 49,
   "metadata": {
    "scrolled": true
   },
   "outputs": [
    {
     "data": {
      "text/plain": [
       "Text(0.5, 0.98, 'DCGN vs Lambdas')"
      ]
     },
     "execution_count": 49,
     "metadata": {},
     "output_type": "execute_result"
    },
    {
     "data": {
      "image/png": "[encoded data removed]",
      "text/plain": [
       "<Figure size 432x288 with 1 Axes>"
      ]
     },
     "metadata": {
      "needs_background": "light"
     },
     "output_type": "display_data"
    }
   ],
   "source": [
    "fig,ax=plt.subplots()\n",
    "ax.scatter(x=lambd, y=lambd_losses)\n",
    "ax.set_xlabel('Lambdas')\n",
    "ax.set_ylabel('Normalized Discounted Cumulative Gain')\n",
    "fig.suptitle('DCGN vs Lambdas')"
   ]
  },
  {
   "cell_type": "markdown",
   "metadata": {},
   "source": [
    "### Guardamos los datos de la mejor corrida para futuras predicciones"
   ]
  },
  {
   "cell_type": "code",
   "execution_count": 14,
   "metadata": {},
   "outputs": [],
   "source": [
    "predicciones=W@H\n",
    "predicciones=pd.DataFrame(predicciones, index=df_ratings.index, columns=df_ratings.columns)"
   ]
  },
  {
   "cell_type": "code",
   "execution_count": 15,
   "metadata": {},
   "outputs": [],
   "source": [
    "# Guardamos la corrida con k=128 en csv\n",
    "predicciones.to_csv('predicciones.csv')"
   ]
  },
  {
   "cell_type": "code",
   "execution_count": 16,
   "metadata": {},
   "outputs": [],
   "source": [
    "U=pd.DataFrame(W)\n",
    "V=pd.DataFrame(H)"
   ]
  },
  {
   "cell_type": "code",
   "execution_count": 17,
   "metadata": {},
   "outputs": [],
   "source": [
    "# Igualemente guardamos una copia de las matrices U y V. \n",
    "U.to_csv('MatrizU.csv')\n",
    "V.to_csv('MatrizV.csv')"
   ]
  },
  {
   "cell_type": "code",
   "execution_count": 20,
   "metadata": {
    "scrolled": true
   },
   "outputs": [
    {
     "data": {
      "text/html": [
       "<div>\n",
       "<style scoped>\n",
       "    .dataframe tbody tr th:only-of-type {\n",
       "        vertical-align: middle;\n",
       "    }\n",
       "\n",
       "    .dataframe tbody tr th {\n",
       "        vertical-align: top;\n",
       "    }\n",
       "\n",
       "    .dataframe thead th {\n",
       "        text-align: right;\n",
       "    }\n",
       "</style>\n",
       "<table border=\"1\" class=\"dataframe\">\n",
       "  <thead>\n",
       "    <tr style=\"text-align: right;\">\n",
       "      <th>movieId</th>\n",
       "      <th>1</th>\n",
       "      <th>2</th>\n",
       "      <th>3</th>\n",
       "      <th>4</th>\n",
       "      <th>5</th>\n",
       "      <th>6</th>\n",
       "      <th>7</th>\n",
       "      <th>8</th>\n",
       "      <th>9</th>\n",
       "      <th>10</th>\n",
       "      <th>...</th>\n",
       "      <th>161084</th>\n",
       "      <th>161155</th>\n",
       "      <th>161594</th>\n",
       "      <th>161830</th>\n",
       "      <th>161918</th>\n",
       "      <th>161944</th>\n",
       "      <th>162376</th>\n",
       "      <th>162542</th>\n",
       "      <th>162672</th>\n",
       "      <th>163949</th>\n",
       "    </tr>\n",
       "    <tr>\n",
       "      <th>userId</th>\n",
       "      <th></th>\n",
       "      <th></th>\n",
       "      <th></th>\n",
       "      <th></th>\n",
       "      <th></th>\n",
       "      <th></th>\n",
       "      <th></th>\n",
       "      <th></th>\n",
       "      <th></th>\n",
       "      <th></th>\n",
       "      <th></th>\n",
       "      <th></th>\n",
       "      <th></th>\n",
       "      <th></th>\n",
       "      <th></th>\n",
       "      <th></th>\n",
       "      <th></th>\n",
       "      <th></th>\n",
       "      <th></th>\n",
       "      <th></th>\n",
       "      <th></th>\n",
       "    </tr>\n",
       "  </thead>\n",
       "  <tbody>\n",
       "    <tr>\n",
       "      <th>1</th>\n",
       "      <td>0.017517</td>\n",
       "      <td>0.022307</td>\n",
       "      <td>0.009143</td>\n",
       "      <td>0.002656</td>\n",
       "      <td>0.001792</td>\n",
       "      <td>0.049664</td>\n",
       "      <td>0.013785</td>\n",
       "      <td>0.000018</td>\n",
       "      <td>0.013512</td>\n",
       "      <td>0.032311</td>\n",
       "      <td>...</td>\n",
       "      <td>0.000009</td>\n",
       "      <td>0.000012</td>\n",
       "      <td>0.009183</td>\n",
       "      <td>0.000011</td>\n",
       "      <td>0.000010</td>\n",
       "      <td>0.000029</td>\n",
       "      <td>0.014686</td>\n",
       "      <td>1.367713e-07</td>\n",
       "      <td>4.046535e-07</td>\n",
       "      <td>0.000009</td>\n",
       "    </tr>\n",
       "    <tr>\n",
       "      <th>2</th>\n",
       "      <td>0.594510</td>\n",
       "      <td>1.231163</td>\n",
       "      <td>0.096645</td>\n",
       "      <td>0.144181</td>\n",
       "      <td>0.164576</td>\n",
       "      <td>0.298699</td>\n",
       "      <td>0.268347</td>\n",
       "      <td>0.084653</td>\n",
       "      <td>0.101240</td>\n",
       "      <td>1.403738</td>\n",
       "      <td>...</td>\n",
       "      <td>0.000047</td>\n",
       "      <td>0.000059</td>\n",
       "      <td>0.000044</td>\n",
       "      <td>0.000057</td>\n",
       "      <td>0.000056</td>\n",
       "      <td>0.000002</td>\n",
       "      <td>0.000034</td>\n",
       "      <td>6.569296e-03</td>\n",
       "      <td>3.284704e-03</td>\n",
       "      <td>0.000050</td>\n",
       "    </tr>\n",
       "    <tr>\n",
       "      <th>3</th>\n",
       "      <td>0.080806</td>\n",
       "      <td>0.188390</td>\n",
       "      <td>0.060430</td>\n",
       "      <td>0.009820</td>\n",
       "      <td>0.052007</td>\n",
       "      <td>0.134592</td>\n",
       "      <td>0.030957</td>\n",
       "      <td>0.013444</td>\n",
       "      <td>0.009095</td>\n",
       "      <td>0.328252</td>\n",
       "      <td>...</td>\n",
       "      <td>0.000026</td>\n",
       "      <td>0.000037</td>\n",
       "      <td>0.000021</td>\n",
       "      <td>0.000032</td>\n",
       "      <td>0.000029</td>\n",
       "      <td>0.000001</td>\n",
       "      <td>0.000016</td>\n",
       "      <td>1.044380e-02</td>\n",
       "      <td>5.221448e-03</td>\n",
       "      <td>0.000025</td>\n",
       "    </tr>\n",
       "  </tbody>\n",
       "</table>\n",
       "<p>3 rows × 9066 columns</p>\n",
       "</div>"
      ],
      "text/plain": [
       "movieId    1         2         3         4         5         6         7       \\\n",
       "userId                                                                          \n",
       "1        0.017517  0.022307  0.009143  0.002656  0.001792  0.049664  0.013785   \n",
       "2        0.594510  1.231163  0.096645  0.144181  0.164576  0.298699  0.268347   \n",
       "3        0.080806  0.188390  0.060430  0.009820  0.052007  0.134592  0.030957   \n",
       "\n",
       "movieId    8         9         10      ...    161084    161155    161594  \\\n",
       "userId                                 ...                                 \n",
       "1        0.000018  0.013512  0.032311  ...  0.000009  0.000012  0.009183   \n",
       "2        0.084653  0.101240  1.403738  ...  0.000047  0.000059  0.000044   \n",
       "3        0.013444  0.009095  0.328252  ...  0.000026  0.000037  0.000021   \n",
       "\n",
       "movieId    161830    161918    161944    162376        162542        162672  \\\n",
       "userId                                                                        \n",
       "1        0.000011  0.000010  0.000029  0.014686  1.367713e-07  4.046535e-07   \n",
       "2        0.000057  0.000056  0.000002  0.000034  6.569296e-03  3.284704e-03   \n",
       "3        0.000032  0.000029  0.000001  0.000016  1.044380e-02  5.221448e-03   \n",
       "\n",
       "movieId    163949  \n",
       "userId             \n",
       "1        0.000009  \n",
       "2        0.000050  \n",
       "3        0.000025  \n",
       "\n",
       "[3 rows x 9066 columns]"
      ]
     },
     "execution_count": 20,
     "metadata": {},
     "output_type": "execute_result"
    }
   ],
   "source": [
    "predicciones.head(3)"
   ]
  },
  {
   "cell_type": "code",
   "execution_count": 21,
   "metadata": {},
   "outputs": [
    {
     "data": {
      "text/plain": [
       "0.06590566284733829"
      ]
     },
     "execution_count": 21,
     "metadata": {},
     "output_type": "execute_result"
    }
   ],
   "source": [
    "# En promedio no se predice muy alto\n",
    "predicciones.mean().mean()"
   ]
  },
  {
   "cell_type": "markdown",
   "metadata": {},
   "source": [
    "## Metrica de Discounted Cumulative Gain (DCG)\n",
    "### $DCG_5 = \\sum_{i=1}^{5} \\frac{rel_i}{log_2(i+1)}$\n",
    "En este caso usamos $p=5$  para checar la relevancia de 5 recomendaciones."
   ]
  },
  {
   "cell_type": "markdown",
   "metadata": {},
   "source": [
    "## Normalized discounted cumulative gain (NDCG) \n",
    "### $NDCG_5 = \\frac{DCG_5}{IDCG_5}$\n",
    "Esta normalización utiliza el Ideal Discounted Cumulative Gain que es la calificacion maxima posible, es decir si el top 5 de las recomendaciones son realmente el top 5.   "
   ]
  },
  {
   "cell_type": "code",
   "execution_count": 22,
   "metadata": {},
   "outputs": [],
   "source": [
    "# Calcula el NDCG para el top p datos, el default es p=5\n",
    "# Recibe las predicciones como un dataframe con indices los Id de usuarios y columnas el Id de las peliculas\n",
    "def NDCG(raw_data, predicciones, userId, p=5):\n",
    "    top_real = raw_data[raw_data.userId==userId].sort_values('rating', ascending=False).head(p)\n",
    "    peliculas_real=top_real['movieId']\n",
    "    ratings_real=top_real['rating']\n",
    "    dcg=0\n",
    "    idcg=0\n",
    "    \n",
    "    for i in range(p):\n",
    "        dcg+=predicciones.loc[userId, peliculas_real.iloc[i]]/np.log2(i+2)\n",
    "        idcg+=ratings_real.iloc[i]/np.log2(i+2)\n",
    "    \n",
    "    return dcg/idcg\n",
    "    "
   ]
  },
  {
   "cell_type": "code",
   "execution_count": 23,
   "metadata": {},
   "outputs": [],
   "source": [
    "# Para obtener el NDCG utilizamos la funcion en todos los usuarios  \n",
    "resultados_NDCG=[]\n",
    "for i in range(1, 672):\n",
    "    resultados_NDCG.append(NDCG(df_ratings_raw, predicciones, i))"
   ]
  },
  {
   "cell_type": "markdown",
   "metadata": {},
   "source": [
    "### Promedio de NDCG para todos los usuarios utilizando k=128:"
   ]
  },
  {
   "cell_type": "code",
   "execution_count": 24,
   "metadata": {},
   "outputs": [
    {
     "data": {
      "text/plain": [
       "0.44718765280059625"
      ]
     },
     "execution_count": 24,
     "metadata": {},
     "output_type": "execute_result"
    }
   ],
   "source": [
    "np.mean(resultados_NDCG)\n",
    "# El ideal hubiera sido 1.00"
   ]
  },
  {
   "cell_type": "markdown",
   "metadata": {},
   "source": [
    "## Recomendaciones de películas para usuarios"
   ]
  },
  {
   "cell_type": "markdown",
   "metadata": {},
   "source": [
    "Recordamos que las matrices U y V se obtuvieron al correr el método de *Descenso2Pasos* con los parámetros $k=128$, $\\lambda = 0.01$, y se guardaron los resulatdos en  MatrizU.csv,  MatrizV.csv y en  predicciones.csv que es la multiplicación de ambas. "
   ]
  },
  {
   "cell_type": "code",
   "execution_count": 64,
   "metadata": {},
   "outputs": [],
   "source": [
    "#Import other DataFrames to recommend movies\n",
    "df_ratings_raw = pd.read_csv(\"ratings_small.csv\",low_memory=False)\n",
    "df_metadata = pd.read_csv(\"movies_metadata.csv\",low_memory=False)\n",
    "df_links = pd.read_csv(\"links_small.csv\",low_memory=False)\n",
    "df_ratings = df_ratings_raw.pivot(index='userId', columns='movieId', values='rating')"
   ]
  },
  {
   "cell_type": "code",
   "execution_count": 65,
   "metadata": {},
   "outputs": [],
   "source": [
    "# Recuperamos la matriz de predicciones hechas con k=128\n",
    "recomendaciones = pd.read_csv(\"predicciones.csv\")"
   ]
  },
  {
   "cell_type": "code",
   "execution_count": 66,
   "metadata": {},
   "outputs": [],
   "source": [
    "# Arreglamos el hecho de que el indice se volvio una columna al guardarlo en csv\n",
    "# Recuperando el indice original\n",
    "recomendaciones.index = recomendaciones.userId\n",
    "# y borrando la columna extra\n",
    "recomendaciones = recomendaciones.drop(columns=['userId'])\n",
    "# Las columnas se sacan de la matriz original de ratings\n",
    "recomendaciones.columns=df_ratings.columns"
   ]
  },
  {
   "cell_type": "code",
   "execution_count": 67,
   "metadata": {},
   "outputs": [
    {
     "data": {
      "text/html": [
       "<div>\n",
       "<style scoped>\n",
       "    .dataframe tbody tr th:only-of-type {\n",
       "        vertical-align: middle;\n",
       "    }\n",
       "\n",
       "    .dataframe tbody tr th {\n",
       "        vertical-align: top;\n",
       "    }\n",
       "\n",
       "    .dataframe thead th {\n",
       "        text-align: right;\n",
       "    }\n",
       "</style>\n",
       "<table border=\"1\" class=\"dataframe\">\n",
       "  <thead>\n",
       "    <tr style=\"text-align: right;\">\n",
       "      <th>movieId</th>\n",
       "      <th>1</th>\n",
       "      <th>2</th>\n",
       "      <th>3</th>\n",
       "      <th>4</th>\n",
       "      <th>5</th>\n",
       "      <th>6</th>\n",
       "      <th>7</th>\n",
       "      <th>8</th>\n",
       "      <th>9</th>\n",
       "      <th>10</th>\n",
       "      <th>...</th>\n",
       "      <th>161084</th>\n",
       "      <th>161155</th>\n",
       "      <th>161594</th>\n",
       "      <th>161830</th>\n",
       "      <th>161918</th>\n",
       "      <th>161944</th>\n",
       "      <th>162376</th>\n",
       "      <th>162542</th>\n",
       "      <th>162672</th>\n",
       "      <th>163949</th>\n",
       "    </tr>\n",
       "    <tr>\n",
       "      <th>userId</th>\n",
       "      <th></th>\n",
       "      <th></th>\n",
       "      <th></th>\n",
       "      <th></th>\n",
       "      <th></th>\n",
       "      <th></th>\n",
       "      <th></th>\n",
       "      <th></th>\n",
       "      <th></th>\n",
       "      <th></th>\n",
       "      <th></th>\n",
       "      <th></th>\n",
       "      <th></th>\n",
       "      <th></th>\n",
       "      <th></th>\n",
       "      <th></th>\n",
       "      <th></th>\n",
       "      <th></th>\n",
       "      <th></th>\n",
       "      <th></th>\n",
       "      <th></th>\n",
       "    </tr>\n",
       "  </thead>\n",
       "  <tbody>\n",
       "    <tr>\n",
       "      <th>1</th>\n",
       "      <td>0.017517</td>\n",
       "      <td>0.022307</td>\n",
       "      <td>0.009143</td>\n",
       "      <td>0.002656</td>\n",
       "      <td>0.001792</td>\n",
       "      <td>0.049664</td>\n",
       "      <td>0.013785</td>\n",
       "      <td>0.000018</td>\n",
       "      <td>0.013512</td>\n",
       "      <td>0.032311</td>\n",
       "      <td>...</td>\n",
       "      <td>0.000009</td>\n",
       "      <td>0.000012</td>\n",
       "      <td>0.009183</td>\n",
       "      <td>0.000011</td>\n",
       "      <td>0.000010</td>\n",
       "      <td>0.000029</td>\n",
       "      <td>0.014686</td>\n",
       "      <td>1.367713e-07</td>\n",
       "      <td>4.046535e-07</td>\n",
       "      <td>0.000009</td>\n",
       "    </tr>\n",
       "    <tr>\n",
       "      <th>2</th>\n",
       "      <td>0.594510</td>\n",
       "      <td>1.231163</td>\n",
       "      <td>0.096645</td>\n",
       "      <td>0.144181</td>\n",
       "      <td>0.164576</td>\n",
       "      <td>0.298699</td>\n",
       "      <td>0.268347</td>\n",
       "      <td>0.084653</td>\n",
       "      <td>0.101240</td>\n",
       "      <td>1.403738</td>\n",
       "      <td>...</td>\n",
       "      <td>0.000047</td>\n",
       "      <td>0.000059</td>\n",
       "      <td>0.000044</td>\n",
       "      <td>0.000057</td>\n",
       "      <td>0.000056</td>\n",
       "      <td>0.000002</td>\n",
       "      <td>0.000034</td>\n",
       "      <td>6.569296e-03</td>\n",
       "      <td>3.284704e-03</td>\n",
       "      <td>0.000050</td>\n",
       "    </tr>\n",
       "    <tr>\n",
       "      <th>3</th>\n",
       "      <td>0.080806</td>\n",
       "      <td>0.188390</td>\n",
       "      <td>0.060430</td>\n",
       "      <td>0.009820</td>\n",
       "      <td>0.052007</td>\n",
       "      <td>0.134592</td>\n",
       "      <td>0.030957</td>\n",
       "      <td>0.013444</td>\n",
       "      <td>0.009095</td>\n",
       "      <td>0.328252</td>\n",
       "      <td>...</td>\n",
       "      <td>0.000026</td>\n",
       "      <td>0.000037</td>\n",
       "      <td>0.000021</td>\n",
       "      <td>0.000032</td>\n",
       "      <td>0.000029</td>\n",
       "      <td>0.000001</td>\n",
       "      <td>0.000016</td>\n",
       "      <td>1.044380e-02</td>\n",
       "      <td>5.221448e-03</td>\n",
       "      <td>0.000025</td>\n",
       "    </tr>\n",
       "  </tbody>\n",
       "</table>\n",
       "<p>3 rows × 9066 columns</p>\n",
       "</div>"
      ],
      "text/plain": [
       "movieId    1         2         3         4         5         6         7       \\\n",
       "userId                                                                          \n",
       "1        0.017517  0.022307  0.009143  0.002656  0.001792  0.049664  0.013785   \n",
       "2        0.594510  1.231163  0.096645  0.144181  0.164576  0.298699  0.268347   \n",
       "3        0.080806  0.188390  0.060430  0.009820  0.052007  0.134592  0.030957   \n",
       "\n",
       "movieId    8         9         10      ...    161084    161155    161594  \\\n",
       "userId                                 ...                                 \n",
       "1        0.000018  0.013512  0.032311  ...  0.000009  0.000012  0.009183   \n",
       "2        0.084653  0.101240  1.403738  ...  0.000047  0.000059  0.000044   \n",
       "3        0.013444  0.009095  0.328252  ...  0.000026  0.000037  0.000021   \n",
       "\n",
       "movieId    161830    161918    161944    162376        162542        162672  \\\n",
       "userId                                                                        \n",
       "1        0.000011  0.000010  0.000029  0.014686  1.367713e-07  4.046535e-07   \n",
       "2        0.000057  0.000056  0.000002  0.000034  6.569296e-03  3.284704e-03   \n",
       "3        0.000032  0.000029  0.000001  0.000016  1.044380e-02  5.221448e-03   \n",
       "\n",
       "movieId    163949  \n",
       "userId             \n",
       "1        0.000009  \n",
       "2        0.000050  \n",
       "3        0.000025  \n",
       "\n",
       "[3 rows x 9066 columns]"
      ]
     },
     "execution_count": 67,
     "metadata": {},
     "output_type": "execute_result"
    }
   ],
   "source": [
    "recomendaciones.head(3)"
   ]
  },
  {
   "cell_type": "code",
   "execution_count": 68,
   "metadata": {},
   "outputs": [],
   "source": [
    "#Merge df_links and df_metadata to get Movie Title\n",
    "df_metadata['imdb_id'] = df_metadata['imdb_id'].dropna().str.replace('tt','').astype(str).astype(int)\n",
    "df_merged_metadata = pd.merge(df_metadata, df_links, left_on='imdb_id', right_on = 'imdbId', how='inner')\n",
    "df_merged_metadata.rename(columns = {'original_title':'Movie Title'}, inplace = True) "
   ]
  },
  {
   "cell_type": "code",
   "execution_count": 69,
   "metadata": {},
   "outputs": [
    {
     "data": {
      "text/html": [
       "<div>\n",
       "<style scoped>\n",
       "    .dataframe tbody tr th:only-of-type {\n",
       "        vertical-align: middle;\n",
       "    }\n",
       "\n",
       "    .dataframe tbody tr th {\n",
       "        vertical-align: top;\n",
       "    }\n",
       "\n",
       "    .dataframe thead th {\n",
       "        text-align: right;\n",
       "    }\n",
       "</style>\n",
       "<table border=\"1\" class=\"dataframe\">\n",
       "  <thead>\n",
       "    <tr style=\"text-align: right;\">\n",
       "      <th></th>\n",
       "      <th>adult</th>\n",
       "      <th>belongs_to_collection</th>\n",
       "      <th>budget</th>\n",
       "      <th>genres</th>\n",
       "      <th>homepage</th>\n",
       "      <th>id</th>\n",
       "      <th>imdb_id</th>\n",
       "      <th>original_language</th>\n",
       "      <th>Movie Title</th>\n",
       "      <th>overview</th>\n",
       "      <th>...</th>\n",
       "      <th>spoken_languages</th>\n",
       "      <th>status</th>\n",
       "      <th>tagline</th>\n",
       "      <th>title</th>\n",
       "      <th>video</th>\n",
       "      <th>vote_average</th>\n",
       "      <th>vote_count</th>\n",
       "      <th>movieId</th>\n",
       "      <th>imdbId</th>\n",
       "      <th>tmdbId</th>\n",
       "    </tr>\n",
       "  </thead>\n",
       "  <tbody>\n",
       "    <tr>\n",
       "      <th>0</th>\n",
       "      <td>False</td>\n",
       "      <td>{'id': 10194, 'name': 'Toy Story Collection', ...</td>\n",
       "      <td>30000000</td>\n",
       "      <td>[{'id': 16, 'name': 'Animation'}, {'id': 35, '...</td>\n",
       "      <td>http://toystory.disney.com/toy-story</td>\n",
       "      <td>862</td>\n",
       "      <td>114709.0</td>\n",
       "      <td>en</td>\n",
       "      <td>Toy Story</td>\n",
       "      <td>Led by Woody, Andy's toys live happily in his ...</td>\n",
       "      <td>...</td>\n",
       "      <td>[{'iso_639_1': 'en', 'name': 'English'}]</td>\n",
       "      <td>Released</td>\n",
       "      <td>NaN</td>\n",
       "      <td>Toy Story</td>\n",
       "      <td>False</td>\n",
       "      <td>7.7</td>\n",
       "      <td>5415.0</td>\n",
       "      <td>1</td>\n",
       "      <td>114709</td>\n",
       "      <td>862.0</td>\n",
       "    </tr>\n",
       "    <tr>\n",
       "      <th>1</th>\n",
       "      <td>False</td>\n",
       "      <td>NaN</td>\n",
       "      <td>65000000</td>\n",
       "      <td>[{'id': 12, 'name': 'Adventure'}, {'id': 14, '...</td>\n",
       "      <td>NaN</td>\n",
       "      <td>8844</td>\n",
       "      <td>113497.0</td>\n",
       "      <td>en</td>\n",
       "      <td>Jumanji</td>\n",
       "      <td>When siblings Judy and Peter discover an encha...</td>\n",
       "      <td>...</td>\n",
       "      <td>[{'iso_639_1': 'en', 'name': 'English'}, {'iso...</td>\n",
       "      <td>Released</td>\n",
       "      <td>Roll the dice and unleash the excitement!</td>\n",
       "      <td>Jumanji</td>\n",
       "      <td>False</td>\n",
       "      <td>6.9</td>\n",
       "      <td>2413.0</td>\n",
       "      <td>2</td>\n",
       "      <td>113497</td>\n",
       "      <td>8844.0</td>\n",
       "    </tr>\n",
       "  </tbody>\n",
       "</table>\n",
       "<p>2 rows × 27 columns</p>\n",
       "</div>"
      ],
      "text/plain": [
       "   adult                              belongs_to_collection    budget  \\\n",
       "0  False  {'id': 10194, 'name': 'Toy Story Collection', ...  30000000   \n",
       "1  False                                                NaN  65000000   \n",
       "\n",
       "                                              genres  \\\n",
       "0  [{'id': 16, 'name': 'Animation'}, {'id': 35, '...   \n",
       "1  [{'id': 12, 'name': 'Adventure'}, {'id': 14, '...   \n",
       "\n",
       "                               homepage    id   imdb_id original_language  \\\n",
       "0  http://toystory.disney.com/toy-story   862  114709.0                en   \n",
       "1                                   NaN  8844  113497.0                en   \n",
       "\n",
       "  Movie Title                                           overview  ...  \\\n",
       "0   Toy Story  Led by Woody, Andy's toys live happily in his ...  ...   \n",
       "1     Jumanji  When siblings Judy and Peter discover an encha...  ...   \n",
       "\n",
       "                                    spoken_languages    status  \\\n",
       "0           [{'iso_639_1': 'en', 'name': 'English'}]  Released   \n",
       "1  [{'iso_639_1': 'en', 'name': 'English'}, {'iso...  Released   \n",
       "\n",
       "                                     tagline      title  video  vote_average  \\\n",
       "0                                        NaN  Toy Story  False           7.7   \n",
       "1  Roll the dice and unleash the excitement!    Jumanji  False           6.9   \n",
       "\n",
       "   vote_count movieId  imdbId  tmdbId  \n",
       "0      5415.0       1  114709   862.0  \n",
       "1      2413.0       2  113497  8844.0  \n",
       "\n",
       "[2 rows x 27 columns]"
      ]
     },
     "execution_count": 69,
     "metadata": {},
     "output_type": "execute_result"
    }
   ],
   "source": [
    "df_merged_metadata.head(2)"
   ]
  },
  {
   "cell_type": "markdown",
   "metadata": {},
   "source": [
    "### Hacer recomendaciones"
   ]
  },
  {
   "cell_type": "code",
   "execution_count": 70,
   "metadata": {
    "scrolled": true
   },
   "outputs": [
    {
     "data": {
      "text/html": [
       "<div>\n",
       "<style scoped>\n",
       "    .dataframe tbody tr th:only-of-type {\n",
       "        vertical-align: middle;\n",
       "    }\n",
       "\n",
       "    .dataframe tbody tr th {\n",
       "        vertical-align: top;\n",
       "    }\n",
       "\n",
       "    .dataframe thead th {\n",
       "        text-align: right;\n",
       "    }\n",
       "</style>\n",
       "<table border=\"1\" class=\"dataframe\">\n",
       "  <thead>\n",
       "    <tr style=\"text-align: right;\">\n",
       "      <th></th>\n",
       "      <th>Movie Title</th>\n",
       "    </tr>\n",
       "  </thead>\n",
       "  <tbody>\n",
       "    <tr>\n",
       "      <th>48</th>\n",
       "      <td>The Usual Suspects</td>\n",
       "    </tr>\n",
       "    <tr>\n",
       "      <th>284</th>\n",
       "      <td>The Shawshank Redemption</td>\n",
       "    </tr>\n",
       "    <tr>\n",
       "      <th>472</th>\n",
       "      <td>Schindler's List</td>\n",
       "    </tr>\n",
       "    <tr>\n",
       "      <th>2059</th>\n",
       "      <td>The Matrix</td>\n",
       "    </tr>\n",
       "    <tr>\n",
       "      <th>2369</th>\n",
       "      <td>Fight Club</td>\n",
       "    </tr>\n",
       "  </tbody>\n",
       "</table>\n",
       "</div>"
      ],
      "text/plain": [
       "                   Movie Title\n",
       "48          The Usual Suspects\n",
       "284   The Shawshank Redemption\n",
       "472           Schindler's List\n",
       "2059                The Matrix\n",
       "2369                Fight Club"
      ]
     },
     "execution_count": 70,
     "metadata": {},
     "output_type": "execute_result"
    }
   ],
   "source": [
    "# El top 5 de recomendaciones para un usuario, son las calificadas mas altas\n",
    "usuario=8\n",
    "\n",
    "top_movies = recomendaciones.loc[usuario].sort_values(ascending=False).head().index\n",
    "df_merged_metadata.loc[df_merged_metadata['movieId'].isin(top_movies)][['Movie Title']]"
   ]
  },
  {
   "cell_type": "code",
   "execution_count": 71,
   "metadata": {},
   "outputs": [
    {
     "data": {
      "text/html": [
       "<div>\n",
       "<style scoped>\n",
       "    .dataframe tbody tr th:only-of-type {\n",
       "        vertical-align: middle;\n",
       "    }\n",
       "\n",
       "    .dataframe tbody tr th {\n",
       "        vertical-align: top;\n",
       "    }\n",
       "\n",
       "    .dataframe thead th {\n",
       "        text-align: right;\n",
       "    }\n",
       "</style>\n",
       "<table border=\"1\" class=\"dataframe\">\n",
       "  <thead>\n",
       "    <tr style=\"text-align: right;\">\n",
       "      <th></th>\n",
       "      <th>Movie Title</th>\n",
       "    </tr>\n",
       "  </thead>\n",
       "  <tbody>\n",
       "    <tr>\n",
       "      <th>427</th>\n",
       "      <td>Jurassic Park</td>\n",
       "    </tr>\n",
       "    <tr>\n",
       "      <th>640</th>\n",
       "      <td>Trainspotting</td>\n",
       "    </tr>\n",
       "    <tr>\n",
       "      <th>1527</th>\n",
       "      <td>The Breakfast Club</td>\n",
       "    </tr>\n",
       "    <tr>\n",
       "      <th>4076</th>\n",
       "      <td>Spider-Man</td>\n",
       "    </tr>\n",
       "    <tr>\n",
       "      <th>4682</th>\n",
       "      <td>Pirates of the Caribbean: The Curse of the Bla...</td>\n",
       "    </tr>\n",
       "  </tbody>\n",
       "</table>\n",
       "</div>"
      ],
      "text/plain": [
       "                                            Movie Title\n",
       "427                                       Jurassic Park\n",
       "640                                       Trainspotting\n",
       "1527                                 The Breakfast Club\n",
       "4076                                         Spider-Man\n",
       "4682  Pirates of the Caribbean: The Curse of the Bla..."
      ]
     },
     "execution_count": 71,
     "metadata": {},
     "output_type": "execute_result"
    }
   ],
   "source": [
    "#Este es el top 5 de peliculas recomendadas tomando en cuenta solo las que aun no ha calificado \n",
    "usuario=8\n",
    "\n",
    "ya_vistas = df_ratings_raw[df_ratings_raw.userId==usuario]['movieId']\n",
    "top_unseen = recomendaciones.loc[usuario].drop(ya_vistas).sort_values(ascending=False).head().index\n",
    "df_merged_metadata.loc[df_merged_metadata['movieId'].isin(top_unseen)][['Movie Title']]"
   ]
  },
  {
   "cell_type": "code",
   "execution_count": null,
   "metadata": {},
   "outputs": [],
   "source": []
  }
 ],
 "metadata": {
  "kernelspec": {
   "display_name": "itam_md",
   "language": "python",
   "name": "itam_md"
  },
  "language_info": {
   "codemirror_mode": {
    "name": "ipython",
    "version": 3
   },
   "file_extension": ".py",
   "mimetype": "text/x-python",
   "name": "python",
   "nbconvert_exporter": "python",
   "pygments_lexer": "ipython3",
   "version": "3.8.2"
  }
 },
 "nbformat": 4,
 "nbformat_minor": 4
}
